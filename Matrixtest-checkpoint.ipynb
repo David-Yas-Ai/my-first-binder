{
 "cells": [
  {
   "cell_type": "code",
   "execution_count": 2,
   "id": "9447a9bf-9273-43ac-a91c-fc8df727c39f",
   "metadata": {},
   "outputs": [
    {
     "name": "stdout",
     "output_type": "stream",
     "text": [
      "Matrix 1:\n",
      "[[6 8 4 8]\n",
      " [3 6 6 1]\n",
      " [9 4 6 9]\n",
      " [4 5 7 3]]\n",
      "\n",
      "Matrix 2:\n",
      "[[1 7 7 6]\n",
      " [2 6 1 1]\n",
      " [1 6 2 8]\n",
      " [3 4 4 4]]\n",
      "\n",
      "Sum of Matrix 1 and Matrix 2:\n",
      "[[ 7 15 11 14]\n",
      " [ 5 12  7  2]\n",
      " [10 10  8 17]\n",
      " [ 7  9 11  7]]\n"
     ]
    }
   ],
   "source": [
    "import numpy as np\n",
    "\n",
    "# Create a 4x4 matrix (random integers for example)\n",
    "matrix1 = np.random.randint(1, 10, (4, 4))\n",
    "matrix2 = np.random.randint(1, 10, (4, 4))\n",
    "\n",
    "# Print the first matrix\n",
    "print(\"Matrix 1:\")\n",
    "print(matrix1)\n",
    "\n",
    "# Print the second matrix\n",
    "print(\"\\nMatrix 2:\")\n",
    "print(matrix2)\n",
    "\n",
    "# Calculate the sum of the two matrices\n",
    "matrix_sum = matrix1 + matrix2\n",
    "\n",
    "# Print the sum matrix\n",
    "print(\"\\nSum of Matrix 1 and Matrix 2:\")\n",
    "print(matrix_sum)\n"
   ]
  },
  {
   "cell_type": "code",
   "execution_count": null,
   "id": "eab6dd81-4b67-46e1-83d7-27cd0a9c4688",
   "metadata": {},
   "outputs": [],
   "source": []
  }
 ],
 "metadata": {
  "kernelspec": {
   "display_name": "Python 3 (ipykernel)",
   "language": "python",
   "name": "python3"
  },
  "language_info": {
   "codemirror_mode": {
    "name": "ipython",
    "version": 3
   },
   "file_extension": ".py",
   "mimetype": "text/x-python",
   "name": "python",
   "nbconvert_exporter": "python",
   "pygments_lexer": "ipython3",
   "version": "3.12.7"
  }
 },
 "nbformat": 4,
 "nbformat_minor": 5
}
